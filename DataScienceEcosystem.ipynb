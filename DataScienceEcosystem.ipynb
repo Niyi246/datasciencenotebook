{
 "cells": [
  {
   "cell_type": "markdown",
   "id": "47397d58-b38b-4282-8f7d-55d0c8bc1d2c",
   "metadata": {},
   "source": [
    "# Data Science Tools and Ecosystem"
   ]
  },
  {
   "cell_type": "markdown",
   "id": "a81e5cc3-3349-4bb5-8cf6-8baa78132fe4",
   "metadata": {},
   "source": [
    "In this notebook, Data Science Tools and Ecosystem are summarized."
   ]
  },
  {
   "cell_type": "markdown",
   "id": "486133ae-3c20-40e8-98d4-d785979f7712",
   "metadata": {},
   "source": [
    "**Objectives**\n",
    "-Data Science Tools and Ecosystem \n",
    "-Some of the popular languages that Data Scientists\n",
    "-Some of the commonly used libraries used by Data Scientists\n",
    "-Data Science Tools \n",
    "-Examples of evaluating arithmetic expressions in Python\n"
   ]
  },
  {
   "cell_type": "markdown",
   "id": "440d0fc2-eb82-44e0-8cc5-70cd2267cce5",
   "metadata": {},
   "source": [
    "Some of the popular languages that Data Scientists use are:\n",
    "1. Python\n",
    "2. SOL\n",
    "3. R"
   ]
  },
  {
   "cell_type": "markdown",
   "id": "17bede05-2295-4f48-ba33-c6bf31e1bbc0",
   "metadata": {},
   "source": [
    "Some of the commonly used libraries used by Data Scientists include:\n",
    "NumPy\n",
    "Pandas\n",
    "Matplotlib\n",
    "seaborn"
   ]
  },
  {
   "cell_type": "markdown",
   "id": "4c6db138-7d3a-4e15-a1b0-5e7a7d1a568f",
   "metadata": {},
   "source": [
    "| Data Science Tools          |\n",
    "|-----------------------------|\n",
    "| Jupyter Notebook            |\n",
    "| RStudio                     |\n",
    "| Apache Zeppelin             |\n"
   ]
  },
  {
   "cell_type": "markdown",
   "id": "e86768be-cd53-4a58-a457-78a38f865279",
   "metadata": {},
   "source": [
    "### Below are a few examples of evaluating arithmetic expressions in Python\n",
    "e.g 2 + 2"
   ]
  },
  {
   "cell_type": "code",
   "execution_count": 1,
   "id": "a487e7ee-2bdf-46e2-9ab8-fc1728712a71",
   "metadata": {},
   "outputs": [
    {
     "data": {
      "text/plain": [
       "17"
      ]
     },
     "execution_count": 1,
     "metadata": {},
     "output_type": "execute_result"
    }
   ],
   "source": [
    "#This is a simple arithmetic expression to multiply and add integers#\n",
    "\n",
    "(3*4)+5\n"
   ]
  },
  {
   "cell_type": "code",
   "execution_count": 2,
   "id": "74bffda1-a0a9-4dc1-8ece-2cc6155079fb",
   "metadata": {},
   "outputs": [
    {
     "data": {
      "text/plain": [
       "3.3333333333333335"
      ]
     },
     "execution_count": 2,
     "metadata": {},
     "output_type": "execute_result"
    }
   ],
   "source": [
    "#This will convert 200 minutes to hours by diving by 60.\n",
    "200/60"
   ]
  },
  {
   "cell_type": "markdown",
   "id": "823f5f96-e54a-4296-9b49-676a38a488c1",
   "metadata": {},
   "source": [
    "## Author\n",
    "   Olaniyi Olutola"
   ]
  },
  {
   "cell_type": "code",
   "execution_count": null,
   "id": "45e1a77e-f585-4fa2-880f-f6e24e7fffdd",
   "metadata": {},
   "outputs": [],
   "source": []
  }
 ],
 "metadata": {
  "kernelspec": {
   "display_name": "Python 3 (ipykernel)",
   "language": "python",
   "name": "python3"
  },
  "language_info": {
   "codemirror_mode": {
    "name": "ipython",
    "version": 3
   },
   "file_extension": ".py",
   "mimetype": "text/x-python",
   "name": "python",
   "nbconvert_exporter": "python",
   "pygments_lexer": "ipython3",
   "version": "3.13.5"
  }
 },
 "nbformat": 4,
 "nbformat_minor": 5
}
